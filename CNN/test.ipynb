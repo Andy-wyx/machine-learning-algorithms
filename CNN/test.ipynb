{
 "cells": [
  {
   "cell_type": "code",
   "execution_count": 20,
   "metadata": {},
   "outputs": [
    {
     "name": "stdout",
     "output_type": "stream",
     "text": [
      "['MNIST', '.DS_Store']\n",
      "True\n"
     ]
    }
   ],
   "source": [
    "import os\n",
    "\n",
    "path=\"../mnist/\"\n",
    "\n",
    "print(os.listdir('../mnist/'))\n",
    "\n",
    "print(len([f for f in os.listdir(path) if not f.startswith('.')])>0)"
   ]
  },
  {
   "cell_type": "code",
   "execution_count": 31,
   "metadata": {},
   "outputs": [
    {
     "name": "stdout",
     "output_type": "stream",
     "text": [
      "tensor([1, 2, 3, 4]) \n",
      " tensor([[1., 1.],\n",
      "        [1., 1.]]) \n",
      " tensor([[0., 0., 0.],\n",
      "        [0., 0., 0.],\n",
      "        [0., 0., 0.]])\n",
      "torch.Size([4]) torch.Size([2, 2]) torch.Size([3, 3])\n",
      "tensor([[[0., 0., 0., 0., 0.],\n",
      "         [0., 0., 0., 0., 0.],\n",
      "         [0., 0., 0., 0., 0.],\n",
      "         [0., 0., 0., 0., 0.]],\n",
      "\n",
      "        [[0., 0., 0., 0., 0.],\n",
      "         [0., 0., 0., 0., 0.],\n",
      "         [0., 0., 0., 0., 0.],\n",
      "         [0., 0., 0., 0., 0.]],\n",
      "\n",
      "        [[0., 0., 0., 0., 0.],\n",
      "         [0., 0., 0., 0., 0.],\n",
      "         [0., 0., 0., 0., 0.],\n",
      "         [0., 0., 0., 0., 0.]]])\n",
      "torch.FloatTensor\n"
     ]
    }
   ],
   "source": [
    "import torch\n",
    "a=torch.tensor([1,2,3,4])\n",
    "b=torch.ones(2,2)\n",
    "c=torch.zeros(3,3)\n",
    "print(a,'\\n',b,'\\n',c)\n",
    "print(a.size(),b.size(),c.size())\n",
    "t=torch.empty(3,4,5)\n",
    "print(t)\n",
    "print(t.type())\n"
   ]
  },
  {
   "cell_type": "code",
   "execution_count": 14,
   "metadata": {},
   "outputs": [
    {
     "name": "stdout",
     "output_type": "stream",
     "text": [
      "/Users/yuxiang/Documents/3MyProjects/summer@thu-sz/machine-learning-algorithms/CNN/..\n",
      "<class 'str'>\n"
     ]
    }
   ],
   "source": [
    "import os\n",
    "print(os.getcwd()+'/..')\n",
    "print(type(os.getcwd()))"
   ]
  }
 ],
 "metadata": {
  "kernelspec": {
   "display_name": "spinningup",
   "language": "python",
   "name": "python3"
  },
  "language_info": {
   "codemirror_mode": {
    "name": "ipython",
    "version": 3
   },
   "file_extension": ".py",
   "mimetype": "text/x-python",
   "name": "python",
   "nbconvert_exporter": "python",
   "pygments_lexer": "ipython3",
   "version": "3.9.16"
  },
  "orig_nbformat": 4
 },
 "nbformat": 4,
 "nbformat_minor": 2
}
