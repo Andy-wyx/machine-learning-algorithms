{
 "cells": [
  {
   "cell_type": "code",
   "execution_count": 4,
   "metadata": {},
   "outputs": [
    {
     "name": "stdout",
     "output_type": "stream",
     "text": [
      "torch.return_types.max(\n",
      "values=tensor([6, 9]),\n",
      "indices=tensor([2, 2]))\n",
      "tensor([6, 9])\n"
     ]
    }
   ],
   "source": [
    "import torch\n",
    "from torch import nn\n",
    "import numpy as np\n",
    "\n",
    "a=torch.from_numpy(np.array([[1,2],[3,4],[6,9]]))\n",
    "print(a.max(0))\n",
    "print(a.max(0)[0])\n",
    "print(a.max(1))\n",
    "print(a.max(1)[0])"
   ]
  },
  {
   "cell_type": "code",
   "execution_count": 6,
   "metadata": {},
   "outputs": [
    {
     "name": "stdout",
     "output_type": "stream",
     "text": [
      "tensor([[1, 2, 3, 4, 5]])\n",
      "tensor([[1],\n",
      "        [2],\n",
      "        [3],\n",
      "        [4],\n",
      "        [5]])\n",
      "tensor([[1],\n",
      "        [2],\n",
      "        [3],\n",
      "        [4],\n",
      "        [5]])\n",
      "tensor([[1, 2, 3, 4, 5]])\n"
     ]
    }
   ],
   "source": [
    "b=torch.tensor([1,2,3,4,5])\n",
    "# 解缩，加一个维度，就是加中括号，dim=0是加在最外层，dim=1是次外层，以此类推\n",
    "print(torch.unsqueeze(b,0))\n",
    "print(torch.unsqueeze(b,1))\n",
    "print(torch.unsqueeze(b,-1))\n",
    "print(torch.unsqueeze(b,-2))"
   ]
  },
  {
   "cell_type": "code",
   "execution_count": 7,
   "metadata": {},
   "outputs": [
    {
     "name": "stdout",
     "output_type": "stream",
     "text": [
      "tensor([[[1, 2],\n",
      "         [3, 4]]])\n",
      "tensor([[[1, 2]],\n",
      "\n",
      "        [[3, 4]]])\n",
      "tensor([[[1],\n",
      "         [2]],\n",
      "\n",
      "        [[3],\n",
      "         [4]]])\n",
      "tensor([[[1],\n",
      "         [2]],\n",
      "\n",
      "        [[3],\n",
      "         [4]]])\n",
      "tensor([[[1, 2]],\n",
      "\n",
      "        [[3, 4]]])\n",
      "tensor([[[1, 2],\n",
      "         [3, 4]]])\n"
     ]
    }
   ],
   "source": [
    "c=torch.tensor([[1,2],[3,4]])\n",
    "print(torch.unsqueeze(c,0))\n",
    "print(torch.unsqueeze(c,1))\n",
    "print(torch.unsqueeze(c,2))\n",
    "print(torch.unsqueeze(c,-1)) \n",
    "print(torch.unsqueeze(c,-2))\n",
    "print(torch.unsqueeze(c,-3))"
   ]
  }
 ],
 "metadata": {
  "kernelspec": {
   "display_name": "spinningup",
   "language": "python",
   "name": "python3"
  },
  "language_info": {
   "codemirror_mode": {
    "name": "ipython",
    "version": 3
   },
   "file_extension": ".py",
   "mimetype": "text/x-python",
   "name": "python",
   "nbconvert_exporter": "python",
   "pygments_lexer": "ipython3",
   "version": "3.9.16"
  },
  "orig_nbformat": 4
 },
 "nbformat": 4,
 "nbformat_minor": 2
}
