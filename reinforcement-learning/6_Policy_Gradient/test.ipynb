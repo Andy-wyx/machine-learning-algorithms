{
 "cells": [
  {
   "cell_type": "code",
   "execution_count": 2,
   "metadata": {},
   "outputs": [],
   "source": [
    "import numpy as np\n",
    "\n"
   ]
  },
  {
   "cell_type": "code",
   "execution_count": null,
   "metadata": {},
   "outputs": [],
   "source": [
    "'''\n",
    "discounted_ep_rs = np.zeros_like(self.ep_rs)\n",
    "running_add = 0\n",
    "for t in reversed(range(0, len(self.ep_rs))):\n",
    "running_add = running_add * self.gamma + self.ep_rs[t]\n",
    "discounted_ep_rs[t] = running_add\n",
    "\n",
    "# normalize episode rewards\n",
    "discounted_ep_rs -= np.mean(discounted_ep_rs)\n",
    "discounted_ep_rs /= np.std(discounted_ep_rs)\n",
    "return discounted_ep_rs\n",
    "'''"
   ]
  },
  {
   "cell_type": "code",
   "execution_count": 4,
   "metadata": {},
   "outputs": [
    {
     "data": {
      "text/plain": [
       "array([0, 0, 0, 0, 0, 0])"
      ]
     },
     "execution_count": 4,
     "metadata": {},
     "output_type": "execute_result"
    }
   ],
   "source": [
    "ep_rs=[1,2,3,43,2,1]\n",
    "\n",
    "discounted_ep_rs=np.zeros_like(ep_rs)\n",
    "discounted_ep_rs"
   ]
  },
  {
   "attachments": {},
   "cell_type": "markdown",
   "metadata": {},
   "source": [
    "t=[len-1,len-2,...,0]"
   ]
  },
  {
   "cell_type": "code",
   "execution_count": 1,
   "metadata": {},
   "outputs": [
    {
     "name": "stdout",
     "output_type": "stream",
     "text": [
      "matplotlib: 3.7.2\n"
     ]
    }
   ],
   "source": [
    "import matplotlib\n",
    "print('matplotlib: {}'.format(matplotlib.__version__))\n",
    "#run this in command line to fix 'segmentation fault' error while plt.show():\n",
    "# pip install --upgrade matplotlib"
   ]
  },
  {
   "cell_type": "code",
   "execution_count": 4,
   "metadata": {},
   "outputs": [
    {
     "data": {
      "text/plain": [
       "'only works in a py.file that you run\\nimport os\\nos.path.dirname(__file__) # get directory name\\nos.path.abspath(__file__) # get absolute path of current py file\\nos.path.dirname(os.path.dirname(__file__)) # get path of directory of directory\\n'"
      ]
     },
     "execution_count": 4,
     "metadata": {},
     "output_type": "execute_result"
    }
   ],
   "source": [
    "'''only works in a py.file that you run\n",
    "import os\n",
    "os.path.dirname(__file__) # get directory name\n",
    "os.path.abspath(__file__) # get absolute path of current py file\n",
    "os.path.dirname(os.path.dirname(__file__)) # get path of directory of directory\n",
    "'''"
   ]
  },
  {
   "cell_type": "code",
   "execution_count": 6,
   "metadata": {},
   "outputs": [
    {
     "ename": "AttributeError",
     "evalue": "'list' object has no attribute 'shape'",
     "output_type": "error",
     "traceback": [
      "\u001b[0;31m---------------------------------------------------------------------------\u001b[0m",
      "\u001b[0;31mAttributeError\u001b[0m                            Traceback (most recent call last)",
      "Cell \u001b[0;32mIn[6], line 2\u001b[0m\n\u001b[1;32m      1\u001b[0m prob_weights\u001b[39m=\u001b[39m[[\u001b[39m0.2\u001b[39m,\u001b[39m0.3\u001b[39m,\u001b[39m0.5\u001b[39m]]\n\u001b[0;32m----> 2\u001b[0m prob_weights\u001b[39m.\u001b[39;49mshape[\u001b[39m1\u001b[39m]\n",
      "\u001b[0;31mAttributeError\u001b[0m: 'list' object has no attribute 'shape'"
     ]
    }
   ],
   "source": [
    "prob_weights=[0.2,0.3,0.5]\n",
    "prob_weights.shape[1]"
   ]
  }
 ],
 "metadata": {
  "kernelspec": {
   "display_name": "spinningup",
   "language": "python",
   "name": "python3"
  },
  "language_info": {
   "codemirror_mode": {
    "name": "ipython",
    "version": 3
   },
   "file_extension": ".py",
   "mimetype": "text/x-python",
   "name": "python",
   "nbconvert_exporter": "python",
   "pygments_lexer": "ipython3",
   "version": "3.9.16"
  },
  "orig_nbformat": 4
 },
 "nbformat": 4,
 "nbformat_minor": 2
}
